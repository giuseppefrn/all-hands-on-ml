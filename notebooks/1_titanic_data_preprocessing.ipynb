{
 "cells": [
  {
   "metadata": {},
   "cell_type": "markdown",
   "source": [
    "ML Preprocessing Notebook\n",
    "This notebook walks through data loading, exploration, preprocessing, and feature engineering on a classification dataset (Titanic)."
   ],
   "id": "6c744838225f86ed"
  },
  {
   "cell_type": "markdown",
   "id": "642caba1",
   "metadata": {},
   "source": [
    "1. Load Required Libraries"
   ]
  },
  {
   "cell_type": "code",
   "id": "857e10b9",
   "metadata": {},
   "source": [
    "import pandas as pd\n",
    "import matplotlib.pyplot as plt\n",
    "import seaborn as sns"
   ],
   "outputs": [],
   "execution_count": null
  },
  {
   "cell_type": "markdown",
   "id": "17ef240b",
   "metadata": {},
   "source": [
    "2. Load Dataset"
   ]
  },
  {
   "cell_type": "markdown",
   "id": "2be68082",
   "metadata": {},
   "source": [
    "Titanic dataset from seaborn for simplicity"
   ]
  },
  {
   "cell_type": "code",
   "id": "b185bddd",
   "metadata": {},
   "source": [
    "df = sns.load_dataset('titanic')\n",
    "df.head()"
   ],
   "outputs": [],
   "execution_count": null
  },
  {
   "metadata": {},
   "cell_type": "code",
   "source": "df.to_csv('../data/raw/titanic_raw.csv', index=False)",
   "id": "1ee38033c6f11ae2",
   "outputs": [],
   "execution_count": null
  },
  {
   "cell_type": "markdown",
   "id": "8a1e9471",
   "metadata": {},
   "source": [
    "3. Basic Data Overview"
   ]
  },
  {
   "metadata": {},
   "cell_type": "code",
   "source": "df.describe()",
   "id": "ae0abf0bef4f1dad",
   "outputs": [],
   "execution_count": null
  },
  {
   "cell_type": "code",
   "id": "19c00912",
   "metadata": {},
   "source": "df.info()",
   "outputs": [],
   "execution_count": null
  },
  {
   "metadata": {},
   "cell_type": "code",
   "source": "df.isnull().sum()",
   "id": "9fb643de5a95814d",
   "outputs": [],
   "execution_count": null
  },
  {
   "cell_type": "markdown",
   "id": "d5bca77e",
   "metadata": {},
   "source": [
    "4. Data Visualization"
   ]
  },
  {
   "cell_type": "code",
   "id": "b60adaf0",
   "metadata": {},
   "source": [
    "sns.countplot(data=df, x='sex', hue='survived')\n",
    "plt.title('Survival by Sex')\n",
    "plt.show()\n",
    "\n",
    "sns.histplot(df['age'].dropna(), kde=True)\n",
    "plt.title('Age Distribution')\n",
    "plt.show()"
   ],
   "outputs": [],
   "execution_count": null
  },
  {
   "cell_type": "code",
   "id": "5be2ef69",
   "metadata": {},
   "source": "df = df.drop(columns=['deck', 'embark_town', 'alive'])",
   "outputs": [],
   "execution_count": null
  },
  {
   "metadata": {},
   "cell_type": "markdown",
   "source": [
    "Fill missing values in the dataset:\n",
    "- Age: Replace missing values with median age\n",
    "- Embarked: Replace missing values with most common (mode) value\n"
   ],
   "id": "6b08cd26c181ab48"
  },
  {
   "cell_type": "code",
   "id": "7dab161e",
   "metadata": {},
   "source": [
    "df['age'] = df['age'].fillna(df['age'].median())\n",
    "df['embarked'] = df['embarked'].fillna(df['embarked'].mode()[0])"
   ],
   "outputs": [],
   "execution_count": null
  },
  {
   "cell_type": "markdown",
   "id": "e4962cf9",
   "metadata": {},
   "source": [
    "6. Feature Engineering"
   ]
  },
  {
   "cell_type": "markdown",
   "id": "dd992457",
   "metadata": {},
   "source": [
    "Convert categorical columns to numeric"
   ]
  },
  {
   "metadata": {},
   "cell_type": "markdown",
   "source": [
    "Converts categorical variables ('sex', 'embarked', 'class', 'who') into dummy/indicator variables using one-hot encoding, while dropping the first category of each variable to avoid multicollinearity.\n",
    "\n",
    "The transformed categorical columns are:\n",
    "- sex: Male (1) vs Female (0)\n",
    "- embarked: Q and S ports vs C port\n",
    "- class: Second and Third class vs First class\n",
    "- who: Man and Woman vs Child"
   ],
   "id": "72fe9e25b7ee8d22"
  },
  {
   "metadata": {},
   "cell_type": "code",
   "source": "df = pd.get_dummies(df, columns=['sex', 'embarked', 'class', 'who'], drop_first=True)",
   "id": "e42b65d82b420a83",
   "outputs": [],
   "execution_count": null
  },
  {
   "metadata": {},
   "cell_type": "code",
   "source": "df.head()",
   "id": "540e434f8a889988",
   "outputs": [],
   "execution_count": null
  },
  {
   "metadata": {},
   "cell_type": "markdown",
   "source": "Create new feature: is_child",
   "id": "e7147b0ab29234ee"
  },
  {
   "cell_type": "code",
   "id": "5dcccc34",
   "metadata": {},
   "source": [
    "df['is_child'] = (df['age'] < 16).astype(int)"
   ],
   "outputs": [],
   "execution_count": null
  },
  {
   "cell_type": "markdown",
   "id": "0c25c879",
   "metadata": {},
   "source": [
    "7. Final Check"
   ]
  },
  {
   "cell_type": "code",
   "id": "056bcda4",
   "metadata": {},
   "source": [
    "df.head()\n",
    "df.info()"
   ],
   "outputs": [],
   "execution_count": null
  },
  {
   "cell_type": "markdown",
   "id": "00709e30",
   "metadata": {},
   "source": [
    "8. Save Cleaned Dataset"
   ]
  },
  {
   "cell_type": "code",
   "id": "a34ee724",
   "metadata": {},
   "source": [
    "df.to_csv('../data/processed/titanic_preprocessed.csv', index=False)\n",
    "print('Saved as titanic_preprocessed.csv')"
   ],
   "outputs": [],
   "execution_count": null
  }
 ],
 "metadata": {},
 "nbformat": 4,
 "nbformat_minor": 5
}
