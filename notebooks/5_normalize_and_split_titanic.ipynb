{
 "cells": [
  {
   "cell_type": "markdown",
   "id": "0",
   "metadata": {},
   "source": [
    "# Improved Normalization Workflow for Titanic Dataset"
   ]
  },
  {
   "cell_type": "markdown",
   "id": "1",
   "metadata": {},
   "source": [
    "This notebook cleanly separates training/testing sets before scaling and applies different scaling techniques to appropriate columns."
   ]
  },
  {
   "cell_type": "markdown",
   "id": "2",
   "metadata": {},
   "source": [
    "## 1. Import Libraries"
   ]
  },
  {
   "cell_type": "code",
   "execution_count": null,
   "id": "3",
   "metadata": {},
   "outputs": [],
   "source": [
    "import pandas as pd\n",
    "from sklearn.model_selection import train_test_split\n",
    "from sklearn.preprocessing import MinMaxScaler, StandardScaler"
   ]
  },
  {
   "cell_type": "markdown",
   "id": "4",
   "metadata": {},
   "source": [
    "## 2. Load processed Dataset"
   ]
  },
  {
   "cell_type": "code",
   "execution_count": null,
   "id": "5",
   "metadata": {},
   "outputs": [],
   "source": [
    "df = pd.read_csv('../data/processed/titanic_processed.csv')\n",
    "df.head()"
   ]
  },
  {
   "cell_type": "markdown",
   "id": "6",
   "metadata": {},
   "source": [
    "## 3. Split Features and Target"
   ]
  },
  {
   "cell_type": "code",
   "execution_count": null,
   "id": "7",
   "metadata": {},
   "outputs": [],
   "source": [
    "X = df.drop(columns='survived')\n",
    "y = df['survived']"
   ]
  },
  {
   "cell_type": "markdown",
   "id": "8",
   "metadata": {},
   "source": [
    "## 4. Train/Test Split (before scaling)"
   ]
  },
  {
   "cell_type": "code",
   "execution_count": null,
   "id": "9",
   "metadata": {},
   "outputs": [],
   "source": [
    "X_train, X_test, y_train, y_test = train_test_split(X, y, test_size=0.2, random_state=42)\n",
    "print(f'Train shape: {X_train.shape}, Test shape: {X_test.shape}')"
   ]
  },
  {
   "cell_type": "markdown",
   "id": "10",
   "metadata": {},
   "source": [
    "## 5. Define Columns for Different Scaling"
   ]
  },
  {
   "cell_type": "markdown",
   "id": "11",
   "metadata": {},
   "source": [
    "# Example: age and fare use standard scaling; other numeric features may use min-max"
   ]
  },
  {
   "cell_type": "code",
   "execution_count": null,
   "id": "12",
   "metadata": {},
   "outputs": [],
   "source": [
    "standardize_cols = ['age', 'fare']\n",
    "normalize_cols = ['pclass']  # assuming pclass is numerical and should be bounded"
   ]
  },
  {
   "cell_type": "markdown",
   "id": "13",
   "metadata": {},
   "source": [
    "# Keep all other columns unchanged (e.g., already one-hot encoded)"
   ]
  },
  {
   "cell_type": "code",
   "execution_count": null,
   "id": "14",
   "metadata": {},
   "outputs": [],
   "source": [
    "other_cols = [col for col in X.columns if col not in standardize_cols + normalize_cols]"
   ]
  },
  {
   "cell_type": "markdown",
   "id": "15",
   "metadata": {},
   "source": [
    "## 6. Apply Scaling on Train Data"
   ]
  },
  {
   "cell_type": "code",
   "execution_count": null,
   "id": "16",
   "metadata": {},
   "outputs": [],
   "source": [
    "scaler_std = StandardScaler()\n",
    "scaler_minmax = MinMaxScaler()\n",
    "\n",
    "X_train_std = pd.DataFrame(scaler_std.fit_transform(X_train[standardize_cols]), columns=standardize_cols, index=X_train.index)\n",
    "X_train_minmax = pd.DataFrame(scaler_minmax.fit_transform(X_train[normalize_cols]), columns=normalize_cols, index=X_train.index)\n",
    "X_train_other = X_train[other_cols]\n",
    "\n",
    "X_train_scaled = pd.concat([X_train_std, X_train_minmax, X_train_other], axis=1)"
   ]
  },
  {
   "cell_type": "markdown",
   "id": "17",
   "metadata": {},
   "source": [
    "## 7. Apply Scaling on Test Data (use same transformers)"
   ]
  },
  {
   "cell_type": "code",
   "execution_count": null,
   "id": "18",
   "metadata": {},
   "outputs": [],
   "source": [
    "X_test_std = pd.DataFrame(scaler_std.transform(X_test[standardize_cols]), columns=standardize_cols, index=X_test.index)\n",
    "X_test_minmax = pd.DataFrame(scaler_minmax.transform(X_test[normalize_cols]), columns=normalize_cols, index=X_test.index)\n",
    "X_test_other = X_test[other_cols]\n",
    "\n",
    "X_test_scaled = pd.concat([X_test_std, X_test_minmax, X_test_other], axis=1)"
   ]
  },
  {
   "cell_type": "markdown",
   "id": "19",
   "metadata": {},
   "source": [
    "## 8. Save Scaled Datasets"
   ]
  },
  {
   "cell_type": "code",
   "execution_count": null,
   "id": "20",
   "metadata": {},
   "outputs": [],
   "source": [
    "train_scaled = X_train_scaled.copy()\n",
    "train_scaled['survived'] = y_train\n",
    "test_scaled = X_test_scaled.copy()\n",
    "test_scaled['survived'] = y_test\n",
    "\n",
    "train_scaled.to_csv('../data/processed/titanic_train_scaled.csv', index=False)\n",
    "test_scaled.to_csv('../data/processed/titanic_test_scaled.csv', index=False)\n",
    "print('Saved scaled train and test sets.')"
   ]
  },
  {
   "cell_type": "code",
   "execution_count": null,
   "id": "21",
   "metadata": {},
   "outputs": [],
   "source": []
  }
 ],
 "metadata": {},
 "nbformat": 4,
 "nbformat_minor": 5
}
