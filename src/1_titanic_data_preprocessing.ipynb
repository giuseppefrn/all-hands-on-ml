{
 "cells": [
  {
   "cell_type": "markdown",
   "id": "0",
   "metadata": {},
   "source": [
    "ML Preprocessing Notebook\n",
    "This notebook walks through data loading, exploration, preprocessing, and feature engineering on a classification dataset (Titanic)."
   ]
  },
  {
   "cell_type": "markdown",
   "id": "1",
   "metadata": {},
   "source": [
    "1. Load Required Libraries"
   ]
  },
  {
   "cell_type": "code",
   "execution_count": null,
   "id": "2",
   "metadata": {},
   "outputs": [],
   "source": [
    "import pandas as pd\n",
    "import matplotlib.pyplot as plt\n",
    "import seaborn as sns"
   ]
  },
  {
   "cell_type": "markdown",
   "id": "3",
   "metadata": {},
   "source": [
    "2. Load Dataset"
   ]
  },
  {
   "cell_type": "markdown",
   "id": "4",
   "metadata": {},
   "source": [
    "The Titanic dataset from seaborn contains data about the passengers of the RMS Titanic, which sank after hitting an iceberg in 1912. The dataset includes:\n",
    "\n",
    "- survived: Did the passenger survive? (0 = No, 1 = Yes)\n",
    "- pclass: Passenger class (1 = 1st class, 2 = 2nd class, 3 = 3rd class)\n",
    "- sex: Gender of passenger\n",
    "- age: Age of passenger\n",
    "- sibsp: Number of siblings/spouses aboard\n",
    "- parch: Number of parents/children aboard\n",
    "- fare: Passenger fare\n",
    "- embarked: Port of embarkation (C = Cherbourg, Q = Queenstown, S = Southampton)\n",
    "- class: Passenger class (First, Second, Third)\n",
    "- who: Man, Woman, or Child\n",
    "- adult_male: Whether passenger was an adult male\n",
    "- deck: Cabin deck\n",
    "- embark_town: Town of embarkation\n",
    "- alive: Survival (Yes/No)\n",
    "\n",
    "This dataset is commonly used for binary classification tasks to predict passenger survival.\n"
   ]
  },
  {
   "cell_type": "code",
   "execution_count": null,
   "id": "5",
   "metadata": {},
   "outputs": [],
   "source": [
    "df = sns.load_dataset('titanic')\n",
    "df.head()"
   ]
  },
  {
   "cell_type": "code",
   "execution_count": null,
   "id": "6",
   "metadata": {},
   "outputs": [],
   "source": [
    "df.to_csv('../data/raw/titanic_raw.csv', index=False)"
   ]
  },
  {
   "cell_type": "markdown",
   "id": "7",
   "metadata": {},
   "source": [
    "3. Basic Data Overview"
   ]
  },
  {
   "cell_type": "markdown",
   "id": "8",
   "metadata": {},
   "source": [
    "3. Basic Data Overview\n",
    "\n",
    "`df.describe()` provides statistical summary of the numerical columns in the dataset:\n",
    "- count: number of non-null values\n",
    "- mean: average value \n",
    "- std: standard deviation\n",
    "- min: minimum value\n",
    "- 25%: first quartile\n",
    "- 50%: median\n",
    "- 75%: third quartile  \n",
    "- max: maximum value\n",
    "\n",
    "These statistics help understand the distribution and range of numeric variables in the dataset.\n"
   ]
  },
  {
   "cell_type": "code",
   "execution_count": null,
   "id": "9",
   "metadata": {},
   "outputs": [],
   "source": [
    "df.describe()"
   ]
  },
  {
   "cell_type": "markdown",
   "id": "10",
   "metadata": {},
   "source": [
    "`df.info()` provides a concise summary of the DataFrame, showing:\n",
    "\n",
    "- Total number of entries (rows)\n",
    "- Column names and their data types\n",
    "- Number of non-null values in each column\n",
    "- Memory usage\n",
    "\n",
    "This is useful for:\n",
    "- Quickly identifying missing values (comparing non-null counts vs total rows)\n",
    "- Checking data types of columns (numeric, object, etc.)\n",
    "- Understanding the size/shape of your dataset\n",
    "- Verifying memory usage\n"
   ]
  },
  {
   "cell_type": "code",
   "execution_count": null,
   "id": "11",
   "metadata": {},
   "outputs": [],
   "source": [
    "df.info()"
   ]
  },
  {
   "cell_type": "code",
   "execution_count": null,
   "id": "12",
   "metadata": {},
   "outputs": [],
   "source": [
    "df.isnull().sum()"
   ]
  },
  {
   "cell_type": "markdown",
   "id": "13",
   "metadata": {},
   "source": [
    "4. Data Visualization"
   ]
  },
  {
   "cell_type": "code",
   "execution_count": null,
   "id": "14",
   "metadata": {},
   "outputs": [],
   "source": [
    "sns.countplot(data=df, x='sex', hue='survived')\n",
    "plt.title('Survival by Sex')\n",
    "plt.show()\n",
    "\n",
    "sns.histplot(df['age'].dropna(), kde=True)\n",
    "plt.title('Age Distribution')\n",
    "plt.show()"
   ]
  },
  {
   "cell_type": "code",
   "execution_count": null,
   "id": "15",
   "metadata": {},
   "outputs": [],
   "source": [
    "df = df.drop(columns=['deck', 'embark_town', 'alive'])"
   ]
  },
  {
   "cell_type": "markdown",
   "id": "16",
   "metadata": {},
   "source": [
    "Fill missing values in the dataset:\n",
    "- Age: Replace missing values with median age\n",
    "- Embarked: Replace missing values with most common (mode) value\n"
   ]
  },
  {
   "cell_type": "code",
   "execution_count": null,
   "id": "17",
   "metadata": {},
   "outputs": [],
   "source": [
    "df['age'] = df['age'].fillna(df['age'].median())\n",
    "df['embarked'] = df['embarked'].fillna(df['embarked'].mode()[0])"
   ]
  },
  {
   "cell_type": "markdown",
   "id": "18",
   "metadata": {},
   "source": [
    "6. Feature Engineering"
   ]
  },
  {
   "cell_type": "markdown",
   "id": "19",
   "metadata": {},
   "source": [
    "Convert categorical columns to numeric"
   ]
  },
  {
   "cell_type": "markdown",
   "id": "20",
   "metadata": {},
   "source": [
    "Converts categorical variables ('sex', 'embarked', 'class', 'who') into dummy/indicator variables using one-hot encoding, while dropping the first category of each variable. This helps avoid multicollinearity - a situation where two or more predictor variables are highly correlated with each other.\n",
    "\n",
    "For example, for the 'sex' variable:\n",
    "- Without dropping: Female (0/1) and Male (0/1) columns would be perfectly correlated (when Female=1, Male=0 and vice versa)\n",
    "- With dropping: Only Male (1) vs Female (0) column remains, removing redundant information\n",
    "\n",
    "The transformed categorical columns:\n",
    "- sex: Male (1) vs Female (0) \n",
    "- embarked: Q and S ports vs C port (reference)\n",
    "- class: Second and Third class vs First class (reference)\n",
    "- who: Man and Woman vs Child (reference)\n",
    "\n",
    "Reference categories are dropped to serve as the baseline for comparison.\n"
   ]
  },
  {
   "cell_type": "code",
   "execution_count": null,
   "id": "21",
   "metadata": {},
   "outputs": [],
   "source": [
    "df = pd.get_dummies(df, columns=['sex', 'embarked', 'class', 'who'], drop_first=True)"
   ]
  },
  {
   "cell_type": "code",
   "execution_count": null,
   "id": "22",
   "metadata": {},
   "outputs": [],
   "source": [
    "df.head()"
   ]
  },
  {
   "cell_type": "markdown",
   "id": "23",
   "metadata": {},
   "source": [
    "Create new feature: is_child"
   ]
  },
  {
   "cell_type": "code",
   "execution_count": null,
   "id": "24",
   "metadata": {},
   "outputs": [],
   "source": [
    "df['is_child'] = (df['age'] < 16).astype(int)"
   ]
  },
  {
   "cell_type": "markdown",
   "id": "25",
   "metadata": {},
   "source": [
    "7. Final Check"
   ]
  },
  {
   "cell_type": "code",
   "execution_count": null,
   "id": "26",
   "metadata": {},
   "outputs": [],
   "source": [
    "df.head()\n",
    "df.info()"
   ]
  },
  {
   "cell_type": "markdown",
   "id": "27",
   "metadata": {},
   "source": [
    "8. Save Cleaned Dataset"
   ]
  },
  {
   "cell_type": "code",
   "execution_count": null,
   "id": "28",
   "metadata": {},
   "outputs": [],
   "source": [
    "df.to_csv('../data/processed/titanic_preprocessed.csv', index=False)\n",
    "print('Saved as titanic_preprocessed.csv')"
   ]
  }
 ],
 "metadata": {},
 "nbformat": 4,
 "nbformat_minor": 5
}
